{
 "cells": [
  {
   "cell_type": "code",
   "execution_count": 26,
   "metadata": {},
   "outputs": [],
   "source": [
    "import numpy as np\n",
    "import matplotlib.pyplot as plt\n",
    "import pandas as pd\n",
    "import math\n",
    "from keras.models import Sequential\n",
    "from keras.layers import Dense\n",
    "from keras.layers import LSTM\n",
    "from sklearn.preprocessing import MinMaxScaler\n",
    "from sklearn.metrics import mean_squared_error\n",
    " "
   ]
  },
  {
   "cell_type": "code",
   "execution_count": 27,
   "metadata": {},
   "outputs": [
    {
     "data": {
      "text/plain": [
       "array([[29],\n",
       "       [26],\n",
       "       [23],\n",
       "       [27],\n",
       "       [43],\n",
       "       [34],\n",
       "       [34],\n",
       "       [32],\n",
       "       [36],\n",
       "       [34],\n",
       "       [30],\n",
       "       [33],\n",
       "       [27],\n",
       "       [32],\n",
       "       [32],\n",
       "       [29],\n",
       "       [28],\n",
       "       [33],\n",
       "       [30],\n",
       "       [30],\n",
       "       [36],\n",
       "       [29],\n",
       "       [24],\n",
       "       [26],\n",
       "       [30],\n",
       "       [23],\n",
       "       [28],\n",
       "       [17],\n",
       "       [24],\n",
       "       [24],\n",
       "       [30],\n",
       "       [37],\n",
       "       [38],\n",
       "       [26],\n",
       "       [24],\n",
       "       [38],\n",
       "       [30],\n",
       "       [43],\n",
       "       [30],\n",
       "       [32],\n",
       "       [29],\n",
       "       [21],\n",
       "       [26],\n",
       "       [28],\n",
       "       [32],\n",
       "       [23],\n",
       "       [23],\n",
       "       [26],\n",
       "       [27],\n",
       "       [33],\n",
       "       [27],\n",
       "       [30],\n",
       "       [30],\n",
       "       [29],\n",
       "       [25],\n",
       "       [34],\n",
       "       [26],\n",
       "       [29],\n",
       "       [24],\n",
       "       [25],\n",
       "       [25],\n",
       "       [ 3],\n",
       "       [30],\n",
       "       [24],\n",
       "       [41],\n",
       "       [27],\n",
       "       [33],\n",
       "       [24],\n",
       "       [30],\n",
       "       [32],\n",
       "       [29],\n",
       "       [18],\n",
       "       [23],\n",
       "       [25],\n",
       "       [26],\n",
       "       [17],\n",
       "       [29],\n",
       "       [25],\n",
       "       [24],\n",
       "       [32],\n",
       "       [23],\n",
       "       [27],\n",
       "       [28],\n",
       "       [29],\n",
       "       [22],\n",
       "       [35],\n",
       "       [18],\n",
       "       [27],\n",
       "       [32],\n",
       "       [33],\n",
       "       [27],\n",
       "       [32],\n",
       "       [22],\n",
       "       [31],\n",
       "       [36],\n",
       "       [35],\n",
       "       [32],\n",
       "       [39],\n",
       "       [34],\n",
       "       [23],\n",
       "       [35],\n",
       "       [33],\n",
       "       [23],\n",
       "       [30],\n",
       "       [26],\n",
       "       [31],\n",
       "       [21],\n",
       "       [25],\n",
       "       [28],\n",
       "       [28],\n",
       "       [29],\n",
       "       [30],\n",
       "       [24],\n",
       "       [24],\n",
       "       [22],\n",
       "       [28],\n",
       "       [23],\n",
       "       [37],\n",
       "       [37],\n",
       "       [35],\n",
       "       [24],\n",
       "       [29],\n",
       "       [28],\n",
       "       [31],\n",
       "       [15],\n",
       "       [45],\n",
       "       [21],\n",
       "       [43],\n",
       "       [30],\n",
       "       [35],\n",
       "       [24],\n",
       "       [34],\n",
       "       [32],\n",
       "       [34],\n",
       "       [38],\n",
       "       [47],\n",
       "       [39],\n",
       "       [30],\n",
       "       [32],\n",
       "       [30],\n",
       "       [41],\n",
       "       [30],\n",
       "       [32],\n",
       "       [36]], dtype=int64)"
      ]
     },
     "execution_count": 27,
     "metadata": {},
     "output_type": "execute_result"
    }
   ],
   "source": [
    "dataset =pd.read_excel('check.xlsx')\n",
    "dataset=dataset['Accidents']\n",
    "dataset=np.array(dataset).reshape(-1,1)\n",
    "dataset"
   ]
  },
  {
   "cell_type": "code",
   "execution_count": 28,
   "metadata": {},
   "outputs": [
    {
     "data": {
      "text/plain": [
       "[<matplotlib.lines.Line2D at 0x12a5be77a08>]"
      ]
     },
     "execution_count": 28,
     "metadata": {},
     "output_type": "execute_result"
    },
   
   "source": [
    "# normalize the dataset\n",
    "scaler = MinMaxScaler()\n",
    "dataset = scaler.fit_transform(dataset)\n",
    "dataset.min()"
   ]
  },
  {
   "cell_type": "code",
   "execution_count": 30,
   "metadata": {},
   "outputs": [],
   "source": [
    "# split into train and test sets\n",
    "train_size = 100\n",
    "test_size=44"
   ]
  },
  {
   "cell_type": "code",
   "execution_count": 31,
   "metadata": {},
   "outputs": [
    {
     "data": {
      "text/plain": [
       "(100, 1)"
      ]
     },
     "execution_count": 31,
     "metadata": {},
     "output_type": "execute_result"
    }
   ],
   "source": [
    "train=dataset[0:train_size, :]\n",
    "train.shape"
   ]
  },
  {
   "cell_type": "code",
   "execution_count": 32,
   "metadata": {},
   "outputs": [
    {
     "data": {
      "text/plain": [
       "(44, 1)"
      ]
     },
     "execution_count": 32,
     "metadata": {},
     "output_type": "execute_result"
    }
   ],
   "source": [
    "test=dataset[train_size:144, :]\n",
    "test.shape"
   ]
  },
  {
   "cell_type": "code",
   "execution_count": 33,
   "metadata": {},
   "outputs": [],
   "source": [
    "# convert an array of values into a dataset matrix\n",
    "def get_data(dataset, look_back):\n",
    "    dataX, dataY = [], []\n",
    "    for i in range(len(dataset)-look_back-1):\n",
    "        a = dataset[i:(i+look_back), 0]\n",
    "        dataX.append(a)\n",
    "        dataY.append(dataset[i + look_back, 0])\n",
    "    return np.array(dataX), np.array(dataY)"
   ]
  },
  {
   "cell_type": "code",
   "execution_count": 34,
   "metadata": {},
   "outputs": [],
   "source": [
    "# reshape into X=t and Y=t+1\n",
    "look_back = 1\n",
    "x_train,y_train = get_data(train, look_back)"
   ]
  },
  {
   "cell_type": "code",
   "execution_count": 35,
   "metadata": {},
   "outputs": [
    {
     "data": {
      "text/plain": [
       "array([[0.59090909],\n",
       "       [0.52272727],\n",
       "       [0.45454545],\n",
       "       [0.54545455],\n",
       "       [0.90909091],\n",
       "       [0.70454545],\n",
       "       [0.70454545],\n",
       "       [0.65909091],\n",
       "       [0.75      ],\n",
       "       [0.70454545],\n",
       "       [0.61363636],\n",
       "       [0.68181818],\n",
       "       [0.54545455],\n",
       "       [0.65909091],\n",
       "       [0.65909091],\n",
       "       [0.59090909],\n",
       "       [0.56818182],\n",
       "       [0.68181818],\n",
       "       [0.61363636],\n",
       "       [0.61363636],\n",
       "       [0.75      ],\n",
       "       [0.59090909],\n",
       "       [0.47727273],\n",
       "       [0.52272727],\n",
       "       [0.61363636],\n",
       "       [0.45454545],\n",
       "       [0.56818182],\n",
       "       [0.31818182],\n",
       "       [0.47727273],\n",
       "       [0.47727273],\n",
       "       [0.61363636],\n",
       "       [0.77272727],\n",
       "       [0.79545455],\n",
       "       [0.52272727],\n",
       "       [0.47727273],\n",
       "       [0.79545455],\n",
       "       [0.61363636],\n",
       "       [0.90909091],\n",
       "       [0.61363636],\n",
       "       [0.65909091],\n",
       "       [0.59090909],\n",
       "       [0.40909091],\n",
       "       [0.52272727],\n",
       "       [0.56818182],\n",
       "       [0.65909091],\n",
       "       [0.45454545],\n",
       "       [0.45454545],\n",
       "       [0.52272727],\n",
       "       [0.54545455],\n",
       "       [0.68181818],\n",
       "       [0.54545455],\n",
       "       [0.61363636],\n",
       "       [0.61363636],\n",
       "       [0.59090909],\n",
       "       [0.5       ],\n",
       "       [0.70454545],\n",
       "       [0.52272727],\n",
       "       [0.59090909],\n",
       "       [0.47727273],\n",
       "       [0.5       ],\n",
       "       [0.5       ],\n",
       "       [0.        ],\n",
       "       [0.61363636],\n",
       "       [0.47727273],\n",
       "       [0.86363636],\n",
       "       [0.54545455],\n",
       "       [0.68181818],\n",
       "       [0.47727273],\n",
       "       [0.61363636],\n",
       "       [0.65909091],\n",
       "       [0.59090909],\n",
       "       [0.34090909],\n",
       "       [0.45454545],\n",
       "       [0.5       ],\n",
       "       [0.52272727],\n",
       "       [0.31818182],\n",
       "       [0.59090909],\n",
       "       [0.5       ],\n",
       "       [0.47727273],\n",
       "       [0.65909091],\n",
       "       [0.45454545],\n",
       "       [0.54545455],\n",
       "       [0.56818182],\n",
       "       [0.59090909],\n",
       "       [0.43181818],\n",
       "       [0.72727273],\n",
       "       [0.34090909],\n",
       "       [0.54545455],\n",
       "       [0.65909091],\n",
       "       [0.68181818],\n",
       "       [0.54545455],\n",
       "       [0.65909091],\n",
       "       [0.43181818],\n",
       "       [0.63636364],\n",
       "       [0.75      ],\n",
       "       [0.72727273],\n",
       "       [0.65909091],\n",
       "       [0.81818182]])"
      ]
     },
     "execution_count": 35,
     "metadata": {},
     "output_type": "execute_result"
    }
   ],
   "source": [
    "x_train"
   ]
  },
  {
   "cell_type": "code",
   "execution_count": 36,
   "metadata": {},
   "outputs": [
    {
     "data": {
      "text/plain": [
       "array([0.52272727, 0.45454545, 0.54545455, 0.90909091, 0.70454545,\n",
       "       0.70454545, 0.65909091, 0.75      , 0.70454545, 0.61363636,\n",
       "       0.68181818, 0.54545455, 0.65909091, 0.65909091, 0.59090909,\n",
       "       0.56818182, 0.68181818, 0.61363636, 0.61363636, 0.75      ,\n",
       "       0.59090909, 0.47727273, 0.52272727, 0.61363636, 0.45454545,\n",
       "       0.56818182, 0.31818182, 0.47727273, 0.47727273, 0.61363636,\n",
       "       0.77272727, 0.79545455, 0.52272727, 0.47727273, 0.79545455,\n",
       "       0.61363636, 0.90909091, 0.61363636, 0.65909091, 0.59090909,\n",
       "       0.40909091, 0.52272727, 0.56818182, 0.65909091, 0.45454545,\n",
       "       0.45454545, 0.52272727, 0.54545455, 0.68181818, 0.54545455,\n",
       "       0.61363636, 0.61363636, 0.59090909, 0.5       , 0.70454545,\n",
       "       0.52272727, 0.59090909, 0.47727273, 0.5       , 0.5       ,\n",
       "       0.        , 0.61363636, 0.47727273, 0.86363636, 0.54545455,\n",
       "       0.68181818, 0.47727273, 0.61363636, 0.65909091, 0.59090909,\n",
       "       0.34090909, 0.45454545, 0.5       , 0.52272727, 0.31818182,\n",
       "       0.59090909, 0.5       , 0.47727273, 0.65909091, 0.45454545,\n",
       "       0.54545455, 0.56818182, 0.59090909, 0.43181818, 0.72727273,\n",
       "       0.34090909, 0.54545455, 0.65909091, 0.68181818, 0.54545455,\n",
       "       0.65909091, 0.43181818, 0.63636364, 0.75      , 0.72727273,\n",
       "       0.65909091, 0.81818182, 0.70454545])"
      ]
     },
     "execution_count": 36,
     "metadata": {},
     "output_type": "execute_result"
    }
   ],
   "source": [
    "y_train"
   ]
  },
  {
   "cell_type": "code",
   "execution_count": 37,
   "metadata": {},
   "outputs": [],
   "source": [
    "x_test,y_test=get_data(test, look_back)"
   ]
  },
  {
   "cell_type": "code",
   "execution_count": 38,
   "metadata": {},
   "outputs": [],
   "source": [
    "x_train=x_train.reshape(x_train.shape[0],x_train.shape[1],1)\n",
    "x_test=x_test.reshape(x_test.shape[0],x_test.shape[1],1)"
   ]
  },
  {
   "cell_type": "code",
   "execution_count": 39,
   "metadata": {},
   "outputs": [
    {
     "data": {
      "text/plain": [
       "(98, 1, 1)"
      ]
     },
     "execution_count": 39,
     "metadata": {},
     "output_type": "execute_result"
    }
   ],
   "source": [
    "x_train.shape"
   ]
  },
  {
   "cell_type": "code",
   "execution_count": 40,
   "metadata": {},
   "outputs": [],
   "source": [
    "# create and fit the LSTM network\n",
    "model = Sequential()\n",
    "model.add(LSTM(5, input_shape=(1, look_back)))\n",
    "model.add(Dense(1))\n",
    "model.compile(loss='mean_squared_error', optimizer='adam')"
   ]
  },
  {
   "cell_type": "code",
   "execution_count": 41,
   "metadata": {},
   "outputs": [
    {
     "name": "stdout",
     "output_type": "stream",
     "text": [
      "Model: \"sequential_3\"\n",
      "_________________________________________________________________\n",
      "Layer (type)                 Output Shape              Param #   \n",
      "=================================================================\n",
      "lstm_3 (LSTM)                (None, 5)                 140       \n",
      "_________________________________________________________________\n",
      "dense_3 (Dense)              (None, 1)                 6         \n",
      "=================================================================\n",
      "Total params: 146\n",
      "Trainable params: 146\n",
      "Non-trainable params: 0\n",
      "_________________________________________________________________\n"
     ]
    }
   ],
   "source": [
    "model.summary()"
   ]
  },
  {
   "cell_type": "markdown",
   "metadata": {},
   "source": []
  },
  {
   "cell_type": "code",
   "execution_count": 42,
   "metadata": {},
   "outputs": [
    {
     "name": "stdout",
     "output_type": "stream",
     "text": [
      "Epoch 1/100\n",
      "98/98 [==============================] - 1s 7ms/step - loss: 0.2680\n",
      "Epoch 2/100\n",
      "98/98 [==============================] - 0s 179us/step - loss: 0.2600\n",
      "Epoch 3/100\n",
      "98/98 [==============================] - 0s 221us/step - loss: 0.2526\n",
      "Epoch 4/100\n",
      "98/98 [==============================] - 0s 147us/step - loss: 0.2449\n",
      "Epoch 5/100\n",
      "98/98 [==============================] - 0s 182us/step - loss: 0.2374\n",
      "Epoch 6/100\n",
      "98/98 [==============================] - 0s 195us/step - loss: 0.2302\n",
      "Epoch 7/100\n",
      "98/98 [==============================] - 0s 173us/step - loss: 0.2230\n",
      "Epoch 8/100\n",
      "98/98 [==============================] - 0s 151us/step - loss: 0.2159\n",
      "Epoch 9/100\n",
      "98/98 [==============================] - 0s 218us/step - loss: 0.2090\n",
      "Epoch 10/100\n",
      "98/98 [==============================] - 0s 225us/step - loss: 0.2022\n",
      "Epoch 11/100\n",
      "98/98 [==============================] - 0s 176us/step - loss: 0.1955\n",
      "Epoch 12/100\n",
      "98/98 [==============================] - 0s 142us/step - loss: 0.1892\n",
      "Epoch 13/100\n",
      "98/98 [==============================] - 0s 138us/step - loss: 0.1828\n",
      "Epoch 14/100\n",
      "98/98 [==============================] - 0s 147us/step - loss: 0.1765\n",
      "Epoch 15/100\n",
      "98/98 [==============================] - 0s 182us/step - loss: 0.1702\n",
      "Epoch 16/100\n",
      "98/98 [==============================] - 0s 197us/step - loss: 0.1642\n",
      "Epoch 17/100\n",
      "98/98 [==============================] - 0s 167us/step - loss: 0.1579\n",
      "Epoch 18/100\n",
      "98/98 [==============================] - 0s 150us/step - loss: 0.1519\n",
      "Epoch 19/100\n",
      "98/98 [==============================] - ETA: 0s - loss: 0.135 - 0s 138us/step - loss: 0.1459\n",
      "Epoch 20/100\n",
      "98/98 [==============================] - 0s 145us/step - loss: 0.1401\n",
      "Epoch 21/100\n",
      "98/98 [==============================] - 0s 167us/step - loss: 0.1343\n",
      "Epoch 22/100\n",
      "98/98 [==============================] - 0s 165us/step - loss: 0.1288\n",
      "Epoch 23/100\n",
      "98/98 [==============================] - 0s 132us/step - loss: 0.1232\n",
      "Epoch 24/100\n",
      "98/98 [==============================] - 0s 199us/step - loss: 0.1178\n",
      "Epoch 25/100\n",
      "98/98 [==============================] - 0s 130us/step - loss: 0.1125\n",
      "Epoch 26/100\n",
      "98/98 [==============================] - 0s 154us/step - loss: 0.1074\n",
      "Epoch 27/100\n",
      "98/98 [==============================] - 0s 162us/step - loss: 0.1027\n",
      "Epoch 28/100\n",
      "98/98 [==============================] - 0s 177us/step - loss: 0.0981\n",
      "Epoch 29/100\n",
      "98/98 [==============================] - 0s 191us/step - loss: 0.0934\n",
      "Epoch 30/100\n",
      "98/98 [==============================] - 0s 135us/step - loss: 0.0890\n",
      "Epoch 31/100\n",
      "98/98 [==============================] - 0s 151us/step - loss: 0.0848\n",
      "Epoch 32/100\n",
      "98/98 [==============================] - 0s 223us/step - loss: 0.0806\n",
      "Epoch 33/100\n",
      "98/98 [==============================] - 0s 166us/step - loss: 0.0766\n",
      "Epoch 34/100\n",
      "98/98 [==============================] - 0s 149us/step - loss: 0.0726\n",
      "Epoch 35/100\n",
      "98/98 [==============================] - 0s 146us/step - loss: 0.0689\n",
      "Epoch 36/100\n",
      "98/98 [==============================] - 0s 123us/step - loss: 0.0653\n",
      "Epoch 37/100\n",
      "98/98 [==============================] - 0s 167us/step - loss: 0.0618\n",
      "Epoch 38/100\n",
      "98/98 [==============================] - 0s 161us/step - loss: 0.0585\n",
      "Epoch 39/100\n",
      "98/98 [==============================] - 0s 148us/step - loss: 0.0554\n",
      "Epoch 40/100\n",
      "98/98 [==============================] - 0s 138us/step - loss: 0.0524\n",
      "Epoch 41/100\n",
      "98/98 [==============================] - 0s 146us/step - loss: 0.0496\n",
      "Epoch 42/100\n",
      "98/98 [==============================] - 0s 129us/step - loss: 0.0469\n",
      "Epoch 43/100\n",
      "98/98 [==============================] - 0s 136us/step - loss: 0.0444\n",
      "Epoch 44/100\n",
      "98/98 [==============================] - 0s 149us/step - loss: 0.0420\n",
      "Epoch 45/100\n",
      "98/98 [==============================] - 0s 139us/step - loss: 0.0398\n",
      "Epoch 46/100\n",
      "98/98 [==============================] - 0s 132us/step - loss: 0.0379\n",
      "Epoch 47/100\n",
      "98/98 [==============================] - 0s 131us/step - loss: 0.0358\n",
      "Epoch 48/100\n",
      "98/98 [==============================] - 0s 127us/step - loss: 0.0340\n",
      "Epoch 49/100\n",
      "98/98 [==============================] - 0s 206us/step - loss: 0.0323\n",
      "Epoch 50/100\n",
      "98/98 [==============================] - 0s 144us/step - loss: 0.0306\n",
      "Epoch 51/100\n",
      "98/98 [==============================] - 0s 160us/step - loss: 0.0292\n",
      "Epoch 52/100\n",
      "98/98 [==============================] - 0s 149us/step - loss: 0.0279\n",
      "Epoch 53/100\n",
      "98/98 [==============================] - 0s 140us/step - loss: 0.0269\n",
      "Epoch 54/100\n",
      "98/98 [==============================] - 0s 149us/step - loss: 0.0259\n",
      "Epoch 55/100\n",
      "98/98 [==============================] - 0s 147us/step - loss: 0.0250\n",
      "Epoch 56/100\n",
      "98/98 [==============================] - 0s 140us/step - loss: 0.0240\n",
      "Epoch 57/100\n",
      "98/98 [==============================] - 0s 142us/step - loss: 0.0233\n",
      "Epoch 58/100\n",
      "98/98 [==============================] - 0s 135us/step - loss: 0.0224\n",
      "Epoch 59/100\n",
      "98/98 [==============================] - 0s 145us/step - loss: 0.0218\n",
      "Epoch 60/100\n",
      "98/98 [==============================] - 0s 149us/step - loss: 0.0212\n",
      "Epoch 61/100\n",
      "98/98 [==============================] - 0s 185us/step - loss: 0.0207\n",
      "Epoch 62/100\n",
      "98/98 [==============================] - 0s 143us/step - loss: 0.0202\n",
      "Epoch 63/100\n",
      "98/98 [==============================] - 0s 155us/step - loss: 0.0199\n",
      "Epoch 64/100\n",
      "98/98 [==============================] - 0s 163us/step - loss: 0.0197\n",
      "Epoch 65/100\n",
      "98/98 [==============================] - 0s 156us/step - loss: 0.0195\n",
      "Epoch 66/100\n",
      "98/98 [==============================] - 0s 179us/step - loss: 0.0193\n",
      "Epoch 67/100\n",
      "98/98 [==============================] - 0s 203us/step - loss: 0.0191\n",
      "Epoch 68/100\n",
      "98/98 [==============================] - 0s 186us/step - loss: 0.0190\n",
      "Epoch 69/100\n",
      "98/98 [==============================] - 0s 203us/step - loss: 0.0189\n",
      "Epoch 70/100\n",
      "98/98 [==============================] - 0s 145us/step - loss: 0.0188\n",
      "Epoch 71/100\n",
      "98/98 [==============================] - 0s 126us/step - loss: 0.0187\n",
      "Epoch 72/100\n",
      "98/98 [==============================] - 0s 135us/step - loss: 0.0186\n",
      "Epoch 73/100\n",
      "98/98 [==============================] - 0s 149us/step - loss: 0.0185\n",
      "Epoch 74/100\n",
      "98/98 [==============================] - 0s 232us/step - loss: 0.0185\n",
      "Epoch 75/100\n",
      "98/98 [==============================] - 0s 184us/step - loss: 0.0184\n",
      "Epoch 76/100\n",
      "98/98 [==============================] - 0s 151us/step - loss: 0.0184\n",
      "Epoch 77/100\n",
      "98/98 [==============================] - 0s 154us/step - loss: 0.0184\n",
      "Epoch 78/100\n",
      "98/98 [==============================] - 0s 133us/step - loss: 0.0184\n",
      "Epoch 79/100\n",
      "98/98 [==============================] - 0s 137us/step - loss: 0.0184\n",
      "Epoch 80/100\n",
      "98/98 [==============================] - 0s 207us/step - loss: 0.0184\n",
      "Epoch 81/100\n",
      "98/98 [==============================] - 0s 180us/step - loss: 0.0184\n",
      "Epoch 82/100\n",
      "98/98 [==============================] - 0s 147us/step - loss: 0.0184\n",
      "Epoch 83/100\n",
      "98/98 [==============================] - 0s 137us/step - loss: 0.0184\n",
      "Epoch 84/100\n",
      "98/98 [==============================] - 0s 143us/step - loss: 0.0184\n",
      "Epoch 85/100\n",
      "98/98 [==============================] - 0s 132us/step - loss: 0.0184\n",
      "Epoch 86/100\n",
      "98/98 [==============================] - 0s 145us/step - loss: 0.0184\n",
      "Epoch 87/100\n",
      "98/98 [==============================] - 0s 162us/step - loss: 0.0184\n",
      "Epoch 88/100\n",
      "98/98 [==============================] - 0s 225us/step - loss: 0.0184\n",
      "Epoch 89/100\n",
      "98/98 [==============================] - 0s 167us/step - loss: 0.0184\n",
      "Epoch 90/100\n",
      "98/98 [==============================] - 0s 146us/step - loss: 0.0184\n",
      "Epoch 91/100\n",
      "98/98 [==============================] - 0s 151us/step - loss: 0.0184\n",
      "Epoch 92/100\n",
      "98/98 [==============================] - 0s 126us/step - loss: 0.0184\n",
      "Epoch 93/100\n",
      "98/98 [==============================] - 0s 132us/step - loss: 0.0184\n",
      "Epoch 94/100\n",
      "98/98 [==============================] - 0s 241us/step - loss: 0.0184\n",
      "Epoch 95/100\n",
      "98/98 [==============================] - 0s 168us/step - loss: 0.0184\n",
      "Epoch 96/100\n",
      "98/98 [==============================] - 0s 151us/step - loss: 0.0184\n",
      "Epoch 97/100\n",
      "98/98 [==============================] - 0s 144us/step - loss: 0.0184\n",
      "Epoch 98/100\n",
      "98/98 [==============================] - 0s 141us/step - loss: 0.0183\n",
      "Epoch 99/100\n"
     ]
    },
    {
     "name": "stdout",
     "output_type": "stream",
     "text": [
      "98/98 [==============================] - 0s 139us/step - loss: 0.0183\n",
      "Epoch 100/100\n",
      "98/98 [==============================] - 0s 137us/step - loss: 0.0184\n"
     ]
    },
    {
     "data": {
      "text/plain": [
       "<keras.callbacks.callbacks.History at 0x12a5c0c9948>"
      ]
     },
     "execution_count": 42,
     "metadata": {},
     "output_type": "execute_result"
    }
   ],
   "source": [
    "model.fit(x_train, y_train, epochs=100)"
   ]
  },
  {
   "cell_type": "code",
   "execution_count": 43,
   "metadata": {},
   "outputs": [],
   "source": [
    "# make predictions\n",
    "y_pred=model.predict(x_test)"
   ]
  },
  {
   "cell_type": "code",
   "execution_count": 44,
   "metadata": {},
   "outputs": [],
   "source": [
    " # invert predictions\n",
    "y_pred=scaler.inverse_transform(y_pred)\n"
   ]
  },
  {
   "cell_type": "code",
   "execution_count": 45,
   "metadata": {},
   "outputs": [],
   "source": [
    "y_test=np.array(y_test)\n",
    "y_test=y_test.reshape(-1,1)\n",
    "y_test=scaler.inverse_transform(y_test)"
   ]
  },
  {
   "cell_type": "code",
   "execution_count": 46,
   "metadata": {},
   "outputs": [
    {
     "data": {
      "text/plain": [
       "array([[31.23408 ],\n",
       "       [30.468891],\n",
       "       [26.433516],\n",
       "       [29.293364],\n",
       "       [27.677721],\n",
       "       [29.688803],\n",
       "       [25.590508],\n",
       "       [27.265877],\n",
       "       [28.492111],\n",
       "       [28.492111],\n",
       "       [28.894428],\n",
       "       [29.293364],\n",
       "       [26.851097],\n",
       "       [26.851097],\n",
       "       [26.01327 ],\n",
       "       [28.492111],\n",
       "       [26.433516],\n",
       "       [31.983849],\n",
       "       [31.983849],\n",
       "       [31.23408 ],\n",
       "       [26.851097],\n",
       "       [28.894428],\n",
       "       [28.492111],\n",
       "       [29.688803],\n",
       "       [23.01017 ],\n",
       "       [34.822083],\n",
       "       [25.590508],\n",
       "       [34.137085],\n",
       "       [29.293364],\n",
       "       [31.23408 ],\n",
       "       [26.851097],\n",
       "       [30.853386],\n",
       "       [30.080677],\n",
       "       [30.853386],\n",
       "       [32.35282 ],\n",
       "       [35.490547],\n",
       "       [32.7178  ],\n",
       "       [29.293364],\n",
       "       [30.080677],\n",
       "       [29.293364],\n",
       "       [33.43561 ],\n",
       "       [29.293364]], dtype=float32)"
      ]
     },
     "execution_count": 46,
     "metadata": {},
     "output_type": "execute_result"
    }
   ],
   "source": [
    "y_pred"
   ]
  },
  {
   "cell_type": "code",
   "execution_count": 47,
   "metadata": {},
   "outputs": [
    {
     "data": {
      "image/png": "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\n",
      "text/plain": [
       "<Figure size 1008x360 with 1 Axes>"
      ]
     },
     "metadata": {
      "needs_background": "light"
     },
     "output_type": "display_data"
    }
   ],
   "source": [
    "plt.figure(figsize=(14,5))\n",
    "plt.plot(y_test,label='real number of accidents')\n",
    "plt.plot(y_pred,label='Predicted number of accidents')\n",
    "plt.ylabel('#Accidents')\n",
    "plt.legend()\n",
    "plt.show()"
   ]
  },
  {
   "cell_type": "code",
   "execution_count": null,
   "metadata": {},
   "outputs": [],
   "source": []
  },
  {
   "cell_type": "code",
   "execution_count": null,
   "metadata": {},
   "outputs": [],
   "source": []
  }
 ],
 "metadata": {
  "kernelspec": {
   "display_name": "Python 3",
   "language": "python",
   "name": "python3"
  },
  "language_info": {
   "codemirror_mode": {
    "name": "ipython",
    "version": 3
   },
   "file_extension": ".py",
   "mimetype": "text/x-python",
   "name": "python",
   "nbconvert_exporter": "python",
   "pygments_lexer": "ipython3",
   "version": "3.7.4"
  }
 },
 "nbformat": 4,
 "nbformat_minor": 2
}
