{
 "cells": [
  {
   "cell_type": "code",
   "execution_count": 26,
   "metadata": {},
   "outputs": [],
   "source": [
    "import numpy as np\n",
    "import matplotlib.pyplot as plt\n",
    "import pandas as pd\n",
    "import math\n",
    "from keras.models import Sequential\n",
    "from keras.layers import Dense\n",
    "from keras.layers import LSTM\n",
    "from sklearn.preprocessing import MinMaxScaler\n",
    "from sklearn.metrics import mean_squared_error\n",
    " "
   ]
  },
  {
   "cell_type": "code",
   "execution_count": 27,
   "metadata": {},
   "outputs": [
    {
     "data": {
      "text/plain": [
       "array([[29],\n",
       "       [26],\n",
       "       [23],\n",
       "       [27],\n",
       "       [43],\n",
       "       [34],\n",
       "       [34],\n",
       "       [32],\n",
       "       [36],\n",
       "       [34],\n",
       "       [30],\n",
       "       [33],\n",
       "       [27],\n",
       "       [32],\n",
       "       [32],\n",
       "       [29],\n",
       "       [28],\n",
       "       [33],\n",
       "       [30],\n",
       "       [30],\n",
       "       [36],\n",
       "       [29],\n",
       "       [24],\n",
       "       [26],\n",
       "       [30],\n",
       "       [23],\n",
       "       [28],\n",
       "       [17],\n",
       "       [24],\n",
       "       [24],\n",
       "       [30],\n",
       "       [37],\n",
       "       [38],\n",
       "       [26],\n",
       "       [24],\n",
       "       [38],\n",
       "       [30],\n",
       "       [43],\n",
       "       [30],\n",
       "       [32],\n",
       "       [29],\n",
       "       [21],\n",
       "       [26],\n",
       "       [28],\n",
       "       [32],\n",
       "       [23],\n",
       "       [23],\n",
       "       [26],\n",
       "       [27],\n",
       "       [33],\n",
       "       [27],\n",
       "       [30],\n",
       "       [30],\n",
       "       [29],\n",
       "       [25],\n",
       "       [34],\n",
       "       [26],\n",
       "       [29],\n",
       "       [24],\n",
       "       [25],\n",
       "       [25],\n",
       "       [ 3],\n",
       "       [30],\n",
       "       [24],\n",
       "       [41],\n",
       "       [27],\n",
       "       [33],\n",
       "       [24],\n",
       "       [30],\n",
       "       [32],\n",
       "       [29],\n",
       "       [18],\n",
       "       [23],\n",
       "       [25],\n",
       "       [26],\n",
       "       [17],\n",
       "       [29],\n",
       "       [25],\n",
       "       [24],\n",
       "       [32],\n",
       "       [23],\n",
       "       [27],\n",
       "       [28],\n",
       "       [29],\n",
       "       [22],\n",
       "       [35],\n",
       "       [18],\n",
       "       [27],\n",
       "       [32],\n",
       "       [33],\n",
       "       [27],\n",
       "       [32],\n",
       "       [22],\n",
       "       [31],\n",
       "       [36],\n",
       "       [35],\n",
       "       [32],\n",
       "       [39],\n",
       "       [34],\n",
       "       [23],\n",
       "       [35],\n",
       "       [33],\n",
       "       [23],\n",
       "       [30],\n",
       "       [26],\n",
       "       [31],\n",
       "       [21],\n",
       "       [25],\n",
       "       [28],\n",
       "       [28],\n",
       "       [29],\n",
       "       [30],\n",
       "       [24],\n",
       "       [24],\n",
       "       [22],\n",
       "       [28],\n",
       "       [23],\n",
       "       [37],\n",
       "       [37],\n",
       "       [35],\n",
       "       [24],\n",
       "       [29],\n",
       "       [28],\n",
       "       [31],\n",
       "       [15],\n",
       "       [45],\n",
       "       [21],\n",
       "       [43],\n",
       "       [30],\n",
       "       [35],\n",
       "       [24],\n",
       "       [34],\n",
       "       [32],\n",
       "       [34],\n",
       "       [38],\n",
       "       [47],\n",
       "       [39],\n",
       "       [30],\n",
       "       [32],\n",
       "       [30],\n",
       "       [41],\n",
       "       [30],\n",
       "       [32],\n",
       "       [36]], dtype=int64)"
      ]
     },
     "execution_count": 27,
     "metadata": {},
     "output_type": "execute_result"
    }
   ],
   "source": [
    "dataset =pd.read_excel('check.xlsx')\n",
    "dataset=dataset['Accidents']\n",
    "dataset=np.array(dataset).reshape(-1,1)\n",
    "dataset"
   ]
  },
  {
   "cell_type": "code",
   "execution_count": 28,
   "metadata": {},
   "outputs": [
    {
     "data": {
      "text/plain": [
       "[<matplotlib.lines.Line2D at 0x12a5be77a08>]"
      ]
     },
     "execution_count": 28,
     "metadata": {},
     "output_type": "execute_result"
    },
     {
     "data": {
      "image/png": "[encoded data removed]",
      "text/plain": [
       "<Figure size 432x288 with 1 Axes>"
      ]
     },
     "metadata": {
      "needs_background": "light"
     },
     "output_type": "display_data"
    }
   ],
   "source": [
    "plt.plot(dataset)"
   ]
  },
  {
   "cell_type": "code",
   "execution_count": 29,
   "metadata": {},
   "outputs": [
    {
     "data": {
      "text/plain": [
       "0.0"
      ]
     },
     "execution_count": 29,
     "metadata": {},
     "output_type": "execute_result"
    }
   ],
   "source": [
    "# normalize the dataset\n",
    "scaler = MinMaxScaler()\n",
    "dataset = scaler.fit_transform(dataset)\n",
    "dataset.min()"
   ]
  },
  {
   "cell_type": "code",
   "execution_count": 30,
   "metadata": {},
   "outputs": [],
   "source": [
    "# split into train and test sets\n",
    "train_size = 100\n",
    "test_size=44"
   ]
  },
  {
   "cell_type": "code",
   "execution_count": 31,
   "metadata": {},
   "outputs": [
    {
     "data": {
      "text/plain": [
       "(100, 1)"
      ]
     },
     "execution_count": 31,
     "metadata": {},
     "output_type": "execute_result"
    }
   ],
   "source": [
    "train=dataset[0:train_size, :]\n",
    "train.shape"
   ]
  },
  {
   "cell_type": "code",
   "execution_count": 32,
   "metadata": {},
   "outputs": [
    {
     "data": {
      "text/plain": [
       "(44, 1)"
      ]
     },
     "execution_count": 32,
     "metadata": {},
     "output_type": "execute_result"
    }
   ],
   "source": [
    "test=dataset[train_size:144, :]\n",
    "test.shape"
   ]
  },
  {
   "cell_type": "code",
   "execution_count": 33,
   "metadata": {},
   "outputs": [],
   "source": [
    "# convert an array of values into a dataset matrix\n",
    "def get_data(dataset, look_back):\n",
    "    dataX, dataY = [], []\n",
    "    for i in range(len(dataset)-look_back-1):\n",
    "        a = dataset[i:(i+look_back), 0]\n",
    "        dataX.append(a)\n",
    "        dataY.append(dataset[i + look_back, 0])\n",
    "    return np.array(dataX), np.array(dataY)"
   ]
  },
  {
   "cell_type": "code",
   "execution_count": 34,
   "metadata": {},
   "outputs": [],
   "source": [
    "# reshape into X=t and Y=t+1\n",
    "look_back = 1\n",
    "x_train,y_train = get_data(train, look_back)"
   ]
  },
  {
   "cell_type": "code",
   "execution_count": 35,
   "metadata": {},
   "outputs": [
    {
     "data": {
      "text/plain": [
       "array([[0.59090909],\n",
       "       [0.52272727],\n",
       "       [0.45454545],\n",
       "       [0.54545455],\n",
       "       [0.90909091],\n",
       "       [0.70454545],\n",
       "       [0.70454545],\n",
       "       [0.65909091],\n",
       "       [0.75      ],\n",
       "       [0.70454545],\n",
       "       [0.61363636],\n",
       "       [0.68181818],\n",
       "       [0.54545455],\n",
       "       [0.65909091],\n",
       "       [0.65909091],\n",
       "       [0.59090909],\n",
       "       [0.56818182],\n",
       "       [0.68181818],\n",
       "       [0.61363636],\n",
       "       [0.61363636],\n",
       "       [0.75      ],\n",
       "       [0.59090909],\n",
       "       [0.47727273],\n",
       "       [0.52272727],\n",
       "       [0.61363636],\n",
       "       [0.45454545],\n",
       "       [0.56818182],\n",
       "       [0.31818182],\n",
       "       [0.47727273],\n",
       "       [0.47727273],\n",
       "       [0.61363636],\n",
       "       [0.77272727],\n",
       "       [0.79545455],\n",
       "       [0.52272727],\n",
       "       [0.47727273],\n",
       "       [0.79545455],\n",
       "       [0.61363636],\n",
       "       [0.90909091],\n",
       "       [0.61363636],\n",
       "       [0.65909091],\n",
       "       [0.59090909],\n",
       "       [0.40909091],\n",
       "       [0.52272727],\n",
       "       [0.56818182],\n",
       "       [0.65909091],\n",
       "       [0.45454545],\n",
       "       [0.45454545],\n",
       "       [0.52272727],\n",
       "       [0.54545455],\n",
       "       [0.68181818],\n",
       "       [0.54545455],\n",
       "       [0.61363636],\n",
       "       [0.61363636],\n",
       "       [0.59090909],\n",
       "       [0.5       ],\n",
       "       [0.70454545],\n",
       "       [0.52272727],\n",
       "       [0.59090909],\n",
       "       [0.47727273],\n",
       "       [0.5       ],\n",
       "       [0.5       ],\n",
       "       [0.        ],\n",
       "       [0.61363636],\n",
       "       [0.47727273],\n",
       "       [0.86363636],\n",
       "       [0.54545455],\n",
       "       [0.68181818],\n",
       "       [0.47727273],\n",
       "       [0.61363636],\n",
       "       [0.65909091],\n",
       "       [0.59090909],\n",
       "       [0.34090909],\n",
       "       [0.45454545],\n",
       "       [0.5       ],\n",
       "       [0.52272727],\n",
       "       [0.31818182],\n",
       "       [0.59090909],\n",
       "       [0.5       ],\n",
       "       [0.47727273],\n",
       "       [0.65909091],\n",
       "       [0.45454545],\n",
       "       [0.54545455],\n",
       "       [0.56818182],\n",
       "       [0.59090909],\n",
       "       [0.43181818],\n",
       "       [0.72727273],\n",
       "       [0.34090909],\n",
       "       [0.54545455],\n",
       "       [0.65909091],\n",
       "       [0.68181818],\n",
       "       [0.54545455],\n",
       "       [0.65909091],\n",
       "       [0.43181818],\n",
       "       [0.63636364],\n",
       "       [0.75      ],\n",
       "       [0.72727273],\n",
       "       [0.65909091],\n",
       "       [0.81818182]])"
      ]
     },
     "execution_count": 35,
     "metadata": {},
     "output_type": "execute_result"
    }
   ],
   "source": [
    "x_train"
   ]
  },
  {
   "cell_type": "code",
   "execution_count": 36,
   "metadata": {},
   "outputs": [
    {
     "data": {
      "text/plain": [
       "array([0.52272727, 0.45454545, 0.54545455, 0.90909091, 0.70454545,\n",
       "       0.70454545, 0.65909091, 0.75      , 0.70454545, 0.61363636,\n",
       "       0.68181818, 0.54545455, 0.65909091, 0.65909091, 0.59090909,\n",
       "       0.56818182, 0.68181818, 0.61363636, 0.61363636, 0.75      ,\n",
       "       0.59090909, 0.47727273, 0.52272727, 0.61363636, 0.45454545,\n",
       "       0.56818182, 0.31818182, 0.47727273, 0.47727273, 0.61363636,\n",
       "       0.77272727, 0.79545455, 0.52272727, 0.47727273, 0.79545455,\n",
       "       0.61363636, 0.90909091, 0.61363636, 0.65909091, 0.59090909,\n",
       "       0.40909091, 0.52272727, 0.56818182, 0.65909091, 0.45454545,\n",
       "       0.45454545, 0.52272727, 0.54545455, 0.68181818, 0.54545455,\n",
       "       0.61363636, 0.61363636, 0.59090909, 0.5       , 0.70454545,\n",
       "       0.52272727, 0.59090909, 0.47727273, 0.5       , 0.5       ,\n",
       "       0.        , 0.61363636, 0.47727273, 0.86363636, 0.54545455,\n",
       "       0.68181818, 0.47727273, 0.61363636, 0.65909091, 0.59090909,\n",
       "       0.34090909, 0.45454545, 0.5       , 0.52272727, 0.31818182,\n",
       "       0.59090909, 0.5       , 0.47727273, 0.65909091, 0.45454545,\n",
       "       0.54545455, 0.56818182, 0.59090909, 0.43181818, 0.72727273,\n",
       "       0.34090909, 0.54545455, 0.65909091, 0.68181818, 0.54545455,\n",
       "       0.65909091, 0.43181818, 0.63636364, 0.75      , 0.72727273,\n",
       "       0.65909091, 0.81818182, 0.70454545])"
      ]
     },
     "execution_count": 36,
     "metadata": {},
     "output_type": "execute_result"
    }
   ],
   "source": [
    "y_train"
   ]
  },
  {
   "cell_type": "code",
   "execution_count": 37,
   "metadata": {},
   "outputs": [],
   "source": [
    "x_test,y_test=get_data(test, look_back)"
   ]
  },
  {
   "cell_type": "code",
   "execution_count": 38,
   "metadata": {},
   "outputs": [],
   "source": [
    "x_train=x_train.reshape(x_train.shape[0],x_train.shape[1],1)\n",
    "x_test=x_test.reshape(x_test.shape[0],x_test.shape[1],1)"
   ]
  },
  {
   "cell_type": "code",
   "execution_count": 39,
   "metadata": {},
   "outputs": [
    {
     "data": {
      "text/plain": [
       "(98, 1, 1)"
      ]
     },
     "execution_count": 39,
     "metadata": {},
     "output_type": "execute_result"
    }
   ],
   "source": [
    "x_train.shape"
   ]
  },
  {
   "cell_type": "code",
   "execution_count": 40,
   "metadata": {},
   "outputs": [],
   "source": [
    "# create and fit the LSTM network\n",
    "model = Sequential()\n",
    "model.add(LSTM(5, input_shape=(1, look_back)))\n",
    "model.add(Dense(1))\n",
    "model.compile(loss='mean_squared_error', optimizer='adam')"
   ]
  },
  {
   "cell_type": "code",
   "execution_count": 41,
   "metadata": {},
   "outputs": [
    {
     "name": "stdout",
     "output_type": "stream",
     "text": [
      "Model: \"sequential_3\"\n",
      "_________________________________________________________________\n",
      "Layer (type)                 Output Shape              Param #   \n",
      "=================================================================\n",
      "lstm_3 (LSTM)                (None, 5)                 140       \n",
      "_________________________________________________________________\n",
      "dense_3 (Dense)              (None, 1)                 6         \n",
      "=================================================================\n",
      "Total params: 146\n",
      "Trainable params: 146\n",
      "Non-trainable params: 0\n",
      "_________________________________________________________________\n"
     ]
    }
   ],
   "source": [
    "model.summary()"
   ]
  },
  {
   "cell_type": "markdown",
   "metadata": {},
   "source": []
  },
  {
   "cell_type": "code",
   "execution_count": 42,
   "metadata": {},
   "outputs": [
    {
     "name": "stdout",
     "output_type": "stream",
     "text": [
      "Epoch 1/100\n",
      "98/98 [==============================] - 1s 7ms/step - loss: 0.2680\n",
      "Epoch 2/100\n",
      "98/98 [==============================] - 0s 179us/step - loss: 0.2600\n",
      "Epoch 3/100\n",
      "98/98 [==============================] - 0s 221us/step - loss: 0.2526\n",
      "Epoch 4/100\n",
      "98/98 [==============================] - 0s 147us/step - loss: 0.2449\n",
      "Epoch 5/100\n",
      "98/98 [==============================] - 0s 182us/step - loss: 0.2374\n",
      "Epoch 6/100\n",
      "98/98 [==============================] - 0s 195us/step - loss: 0.2302\n",
      "Epoch 7/100\n",
      "98/98 [==============================] - 0s 173us/step - loss: 0.2230\n",
      "Epoch 8/100\n",
      "98/98 [==============================] - 0s 151us/step - loss: 0.2159\n",
      "Epoch 9/100\n",
      "98/98 [==============================] - 0s 218us/step - loss: 0.2090\n",
      "Epoch 10/100\n",
      "98/98 [==============================] - 0s 225us/step - loss: 0.2022\n",
      "Epoch 11/100\n",
      "98/98 [==============================] - 0s 176us/step - loss: 0.1955\n",
      "Epoch 12/100\n",
      "98/98 [==============================] - 0s 142us/step - loss: 0.1892\n",
      "Epoch 13/100\n",
      "98/98 [==============================] - 0s 138us/step - loss: 0.1828\n",
      "Epoch 14/100\n",
      "98/98 [==============================] - 0s 147us/step - loss: 0.1765\n",
      "Epoch 15/100\n",
      "98/98 [==============================] - 0s 182us/step - loss: 0.1702\n",
      "Epoch 16/100\n",
      "98/98 [==============================] - 0s 197us/step - loss: 0.1642\n",
      "Epoch 17/100\n",
      "98/98 [==============================] - 0s 167us/step - loss: 0.1579\n",
      "Epoch 18/100\n",
      "98/98 [==============================] - 0s 150us/step - loss: 0.1519\n",
      "Epoch 19/100\n",
      "98/98 [==============================] - ETA: 0s - loss: 0.135 - 0s 138us/step - loss: 0.1459\n",
      "Epoch 20/100\n",
      "98/98 [==============================] - 0s 145us/step - loss: 0.1401\n",
      "Epoch 21/100\n",
      "98/98 [==============================] - 0s 167us/step - loss: 0.1343\n",
      "Epoch 22/100\n",
      "98/98 [==============================] - 0s 165us/step - loss: 0.1288\n",
      "Epoch 23/100\n",
      "98/98 [==============================] - 0s 132us/step - loss: 0.1232\n",
      "Epoch 24/100\n",
      "98/98 [==============================] - 0s 199us/step - loss: 0.1178\n",
      "Epoch 25/100\n",
      "98/98 [==============================] - 0s 130us/step - loss: 0.1125\n",
      "Epoch 26/100\n",
      "98/98 [==============================] - 0s 154us/step - loss: 0.1074\n",
      "Epoch 27/100\n",
      "98/98 [==============================] - 0s 162us/step - loss: 0.1027\n",
      "Epoch 28/100\n",
      "98/98 [==============================] - 0s 177us/step - loss: 0.0981\n",
      "Epoch 29/100\n",
      "98/98 [==============================] - 0s 191us/step - loss: 0.0934\n",
      "Epoch 30/100\n",
      "98/98 [==============================] - 0s 135us/step - loss: 0.0890\n",
      "Epoch 31/100\n",
      "98/98 [==============================] - 0s 151us/step - loss: 0.0848\n",
      "Epoch 32/100\n",
      "98/98 [==============================] - 0s 223us/step - loss: 0.0806\n",
      "Epoch 33/100\n",
      "98/98 [==============================] - 0s 166us/step - loss: 0.0766\n",
      "Epoch 34/100\n",
      "98/98 [==============================] - 0s 149us/step - loss: 0.0726\n",
      "Epoch 35/100\n",
      "98/98 [==============================] - 0s 146us/step - loss: 0.0689\n",
      "Epoch 36/100\n",
      "98/98 [==============================] - 0s 123us/step - loss: 0.0653\n",
      "Epoch 37/100\n",
      "98/98 [==============================] - 0s 167us/step - loss: 0.0618\n",
      "Epoch 38/100\n",
      "98/98 [==============================] - 0s 161us/step - loss: 0.0585\n",
      "Epoch 39/100\n",
      "98/98 [==============================] - 0s 148us/step - loss: 0.0554\n",
      "Epoch 40/100\n",
      "98/98 [==============================] - 0s 138us/step - loss: 0.0524\n",
      "Epoch 41/100\n",
      "98/98 [==============================] - 0s 146us/step - loss: 0.0496\n",
      "Epoch 42/100\n",
      "98/98 [==============================] - 0s 129us/step - loss: 0.0469\n",
      "Epoch 43/100\n",
      "98/98 [==============================] - 0s 136us/step - loss: 0.0444\n",
      "Epoch 44/100\n",
      "98/98 [==============================] - 0s 149us/step - loss: 0.0420\n",
      "Epoch 45/100\n",
      "98/98 [==============================] - 0s 139us/step - loss: 0.0398\n",
      "Epoch 46/100\n",
      "98/98 [==============================] - 0s 132us/step - loss: 0.0379\n",
      "Epoch 47/100\n",
      "98/98 [==============================] - 0s 131us/step - loss: 0.0358\n",
      "Epoch 48/100\n",
      "98/98 [==============================] - 0s 127us/step - loss: 0.0340\n",
      "Epoch 49/100\n",
      "98/98 [==============================] - 0s 206us/step - loss: 0.0323\n",
      "Epoch 50/100\n",
      "98/98 [==============================] - 0s 144us/step - loss: 0.0306\n",
      "Epoch 51/100\n",
      "98/98 [==============================] - 0s 160us/step - loss: 0.0292\n",
      "Epoch 52/100\n",
      "98/98 [==============================] - 0s 149us/step - loss: 0.0279\n",
      "Epoch 53/100\n",
      "98/98 [==============================] - 0s 140us/step - loss: 0.0269\n",
      "Epoch 54/100\n",
      "98/98 [==============================] - 0s 149us/step - loss: 0.0259\n",
      "Epoch 55/100\n",
      "98/98 [==============================] - 0s 147us/step - loss: 0.0250\n",
      "Epoch 56/100\n",
      "98/98 [==============================] - 0s 140us/step - loss: 0.0240\n",
      "Epoch 57/100\n",
      "98/98 [==============================] - 0s 142us/step - loss: 0.0233\n",
      "Epoch 58/100\n",
      "98/98 [==============================] - 0s 135us/step - loss: 0.0224\n",
      "Epoch 59/100\n",
      "98/98 [==============================] - 0s 145us/step - loss: 0.0218\n",
      "Epoch 60/100\n",
      "98/98 [==============================] - 0s 149us/step - loss: 0.0212\n",
      "Epoch 61/100\n",
      "98/98 [==============================] - 0s 185us/step - loss: 0.0207\n",
      "Epoch 62/100\n",
      "98/98 [==============================] - 0s 143us/step - loss: 0.0202\n",
      "Epoch 63/100\n",
      "98/98 [==============================] - 0s 155us/step - loss: 0.0199\n",
      "Epoch 64/100\n",
      "98/98 [==============================] - 0s 163us/step - loss: 0.0197\n",
      "Epoch 65/100\n",
      "98/98 [==============================] - 0s 156us/step - loss: 0.0195\n",
      "Epoch 66/100\n",
      "98/98 [==============================] - 0s 179us/step - loss: 0.0193\n",
      "Epoch 67/100\n",
      "98/98 [==============================] - 0s 203us/step - loss: 0.0191\n",
      "Epoch 68/100\n",
      "98/98 [==============================] - 0s 186us/step - loss: 0.0190\n",
      "Epoch 69/100\n",
      "98/98 [==============================] - 0s 203us/step - loss: 0.0189\n",
      "Epoch 70/100\n",
      "98/98 [==============================] - 0s 145us/step - loss: 0.0188\n",
      "Epoch 71/100\n",
      "98/98 [==============================] - 0s 126us/step - loss: 0.0187\n",
      "Epoch 72/100\n",
      "98/98 [==============================] - 0s 135us/step - loss: 0.0186\n",
      "Epoch 73/100\n",
      "98/98 [==============================] - 0s 149us/step - loss: 0.0185\n",
      "Epoch 74/100\n",
      "98/98 [==============================] - 0s 232us/step - loss: 0.0185\n",
      "Epoch 75/100\n",
      "98/98 [==============================] - 0s 184us/step - loss: 0.0184\n",
      "Epoch 76/100\n",
      "98/98 [==============================] - 0s 151us/step - loss: 0.0184\n",
      "Epoch 77/100\n",
      "98/98 [==============================] - 0s 154us/step - loss: 0.0184\n",
      "Epoch 78/100\n",
      "98/98 [==============================] - 0s 133us/step - loss: 0.0184\n",
      "Epoch 79/100\n",
      "98/98 [==============================] - 0s 137us/step - loss: 0.0184\n",
      "Epoch 80/100\n",
      "98/98 [==============================] - 0s 207us/step - loss: 0.0184\n",
      "Epoch 81/100\n",
      "98/98 [==============================] - 0s 180us/step - loss: 0.0184\n",
      "Epoch 82/100\n",
      "98/98 [==============================] - 0s 147us/step - loss: 0.0184\n",
      "Epoch 83/100\n",
      "98/98 [==============================] - 0s 137us/step - loss: 0.0184\n",
      "Epoch 84/100\n",
      "98/98 [==============================] - 0s 143us/step - loss: 0.0184\n",
      "Epoch 85/100\n",
      "98/98 [==============================] - 0s 132us/step - loss: 0.0184\n",
      "Epoch 86/100\n",
      "98/98 [==============================] - 0s 145us/step - loss: 0.0184\n",
      "Epoch 87/100\n",
      "98/98 [==============================] - 0s 162us/step - loss: 0.0184\n",
      "Epoch 88/100\n",
      "98/98 [==============================] - 0s 225us/step - loss: 0.0184\n",
      "Epoch 89/100\n",
      "98/98 [==============================] - 0s 167us/step - loss: 0.0184\n",
      "Epoch 90/100\n",
      "98/98 [==============================] - 0s 146us/step - loss: 0.0184\n",
      "Epoch 91/100\n",
      "98/98 [==============================] - 0s 151us/step - loss: 0.0184\n",
      "Epoch 92/100\n",
      "98/98 [==============================] - 0s 126us/step - loss: 0.0184\n",
      "Epoch 93/100\n",
      "98/98 [==============================] - 0s 132us/step - loss: 0.0184\n",
      "Epoch 94/100\n",
      "98/98 [==============================] - 0s 241us/step - loss: 0.0184\n",
      "Epoch 95/100\n",
      "98/98 [==============================] - 0s 168us/step - loss: 0.0184\n",
      "Epoch 96/100\n",
      "98/98 [==============================] - 0s 151us/step - loss: 0.0184\n",
      "Epoch 97/100\n",
      "98/98 [==============================] - 0s 144us/step - loss: 0.0184\n",
      "Epoch 98/100\n",
      "98/98 [==============================] - 0s 141us/step - loss: 0.0183\n",
      "Epoch 99/100\n"
     ]
    },
    {
     "name": "stdout",
     "output_type": "stream",
     "text": [
      "98/98 [==============================] - 0s 139us/step - loss: 0.0183\n",
      "Epoch 100/100\n",
      "98/98 [==============================] - 0s 137us/step - loss: 0.0184\n"
     ]
    },
    {
     "data": {
      "text/plain": [
       "<keras.callbacks.callbacks.History at 0x12a5c0c9948>"
      ]
     },
     "execution_count": 42,
     "metadata": {},
     "output_type": "execute_result"
    }
   ],
   "source": [
    "model.fit(x_train, y_train, epochs=100)"
   ]
  },
  {
   "cell_type": "code",
   "execution_count": 43,
   "metadata": {},
   "outputs": [],
   "source": [
    "# make predictions\n",
    "y_pred=model.predict(x_test)"
   ]
  },
  {
   "cell_type": "code",
   "execution_count": 44,
   "metadata": {},
   "outputs": [],
   "source": [
    " # invert predictions\n",
    "y_pred=scaler.inverse_transform(y_pred)\n"
   ]
  },
  {
   "cell_type": "code",
   "execution_count": 45,
   "metadata": {},
   "outputs": [],
   "source": [
    "y_test=np.array(y_test)\n",
    "y_test=y_test.reshape(-1,1)\n",
    "y_test=scaler.inverse_transform(y_test)"
   ]
  },
  {
   "cell_type": "code",
   "execution_count": 46,
   "metadata": {},
   "outputs": [
    {
     "data": {
      "text/plain": [
       "array([[31.23408 ],\n",
       "       [30.468891],\n",
       "       [26.433516],\n",
       "       [29.293364],\n",
       "       [27.677721],\n",
       "       [29.688803],\n",
       "       [25.590508],\n",
       "       [27.265877],\n",
       "       [28.492111],\n",
       "       [28.492111],\n",
       "       [28.894428],\n",
       "       [29.293364],\n",
       "       [26.851097],\n",
       "       [26.851097],\n",
       "       [26.01327 ],\n",
       "       [28.492111],\n",
       "       [26.433516],\n",
       "       [31.983849],\n",
       "       [31.983849],\n",
       "       [31.23408 ],\n",
       "       [26.851097],\n",
       "       [28.894428],\n",
       "       [28.492111],\n",
       "       [29.688803],\n",
       "       [23.01017 ],\n",
       "       [34.822083],\n",
       "       [25.590508],\n",
       "       [34.137085],\n",
       "       [29.293364],\n",
       "       [31.23408 ],\n",
       "       [26.851097],\n",
       "       [30.853386],\n",
       "       [30.080677],\n",
       "       [30.853386],\n",
       "       [32.35282 ],\n",
       "       [35.490547],\n",
       "       [32.7178  ],\n",
       "       [29.293364],\n",
       "       [30.080677],\n",
       "       [29.293364],\n",
       "       [33.43561 ],\n",
       "       [29.293364]], dtype=float32)"
      ]
     },
     "execution_count": 46,
     "metadata": {},
     "output_type": "execute_result"
    }
   ],
   "source": [
    "y_pred"
   ]
  },
  {
   "cell_type": "code",
   "execution_count": 47,
   "metadata": {},
   "outputs": [
    {
     "data": {
      "image/png": "[encoded data removed]",
      "text/plain": [
       "<Figure size 1008x360 with 1 Axes>"
      ]
     },
     "metadata": {
      "needs_background": "light"
     },
     "output_type": "display_data"
    }
   ],
   "source": [
    "plt.figure(figsize=(14,5))\n",
    "plt.plot(y_test,label='real number of accidents')\n",
    "plt.plot(y_pred,label='Predicted number of accidents')\n",
    "plt.ylabel('#Accidents')\n",
    "plt.legend()\n",
    "plt.show()"
   ]
  },
  {
   "cell_type": "code",
   "execution_count": null,
   "metadata": {},
   "outputs": [],
   "source": []
  },
  {
   "cell_type": "code",
   "execution_count": null,
   "metadata": {},
   "outputs": [],
   "source": []
  }
 ],
 "metadata": {
  "kernelspec": {
   "display_name": "Python 3",
   "language": "python",
   "name": "python3"
  },
  "language_info": {
   "codemirror_mode": {
    "name": "ipython",
    "version": 3
   },
   "file_extension": ".py",
   "mimetype": "text/x-python",
   "name": "python",
   "nbconvert_exporter": "python",
   "pygments_lexer": "ipython3",
   "version": "3.7.4"
  }
 },
 "nbformat": 4,
 "nbformat_minor": 2
}
